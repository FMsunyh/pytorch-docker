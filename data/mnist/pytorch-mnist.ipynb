{
    "cells": [
        {
            "cell_type": "markdown",
            "metadata": {},
            "source": [
                "# Task\n",
                "Our task is simple, recognize handwritten digits. We will use MNIST dataset for this tutorial.\n"
            ]
        },
        {
            "cell_type": "markdown",
            "metadata": {},
            "source": [
                "# Import necessary library\n",
                "In this tutorial, we are going to use pytorch, the cutting-edge deep learning framework to complete our task."
            ]
        },
        {
            "cell_type": "code",
            "execution_count": 1,
            "metadata": {},
            "outputs": [],
            "source": [
                "import torch\n",
                "import torchvision\n",
                "import sys"
            ]
        },
        {
            "cell_type": "code",
            "execution_count": 2,
            "metadata": {},
            "outputs": [
                {
                    "name": "stdout",
                    "output_type": "stream",
                    "text": [
                        "Python版本信息:\n",
                        "3.10.12 (main, Jun 11 2023, 05:26:28) [GCC 11.4.0]\n",
                        "torch版本信息:\n",
                        "2.1.0a0+32f93b1\n",
                        "python路径:\n",
                        "/usr/bin/python\n"
                    ]
                }
            ],
            "source": [
                "print(\"Python版本信息:\")\n",
                "print(sys.version)\n",
                "\n",
                "print(\"torch版本信息:\")\n",
                "print(torch.__version__)\n",
                "\n",
                "print(\"python路径:\")\n",
                "print(sys.executable)"
            ]
        },
        {
            "cell_type": "code",
            "execution_count": 3,
            "metadata": {},
            "outputs": [
                {
                    "name": "stdout",
                    "output_type": "stream",
                    "text": [
                        "Downloading http://yann.lecun.com/exdb/mnist/train-images-idx3-ubyte.gz\n",
                        "Downloading http://yann.lecun.com/exdb/mnist/train-images-idx3-ubyte.gz to dataset/MNIST/raw/train-images-idx3-ubyte.gz\n"
                    ]
                },
                {
                    "name": "stderr",
                    "output_type": "stream",
                    "text": [
                        "100% 9912422/9912422 [00:00<00:00, 36395789.67it/s]\n"
                    ]
                },
                {
                    "name": "stdout",
                    "output_type": "stream",
                    "text": [
                        "Extracting dataset/MNIST/raw/train-images-idx3-ubyte.gz to dataset/MNIST/raw\n",
                        "\n",
                        "Downloading http://yann.lecun.com/exdb/mnist/train-labels-idx1-ubyte.gz\n",
                        "Downloading http://yann.lecun.com/exdb/mnist/train-labels-idx1-ubyte.gz to dataset/MNIST/raw/train-labels-idx1-ubyte.gz\n"
                    ]
                },
                {
                    "name": "stderr",
                    "output_type": "stream",
                    "text": [
                        "100% 28881/28881 [00:00<00:00, 1695699.62it/s]"
                    ]
                },
                {
                    "name": "stdout",
                    "output_type": "stream",
                    "text": [
                        "Extracting dataset/MNIST/raw/train-labels-idx1-ubyte.gz to dataset/MNIST/raw\n",
                        "\n",
                        "Downloading http://yann.lecun.com/exdb/mnist/t10k-images-idx3-ubyte.gz\n"
                    ]
                },
                {
                    "name": "stderr",
                    "output_type": "stream",
                    "text": [
                        "\n"
                    ]
                },
                {
                    "name": "stdout",
                    "output_type": "stream",
                    "text": [
                        "Downloading http://yann.lecun.com/exdb/mnist/t10k-images-idx3-ubyte.gz to dataset/MNIST/raw/t10k-images-idx3-ubyte.gz\n"
                    ]
                },
                {
                    "name": "stderr",
                    "output_type": "stream",
                    "text": [
                        "100% 1648877/1648877 [00:00<00:00, 13468746.21it/s]\n"
                    ]
                },
                {
                    "name": "stdout",
                    "output_type": "stream",
                    "text": [
                        "Extracting dataset/MNIST/raw/t10k-images-idx3-ubyte.gz to dataset/MNIST/raw\n",
                        "\n",
                        "Downloading http://yann.lecun.com/exdb/mnist/t10k-labels-idx1-ubyte.gz\n",
                        "Downloading http://yann.lecun.com/exdb/mnist/t10k-labels-idx1-ubyte.gz to dataset/MNIST/raw/t10k-labels-idx1-ubyte.gz\n"
                    ]
                },
                {
                    "name": "stderr",
                    "output_type": "stream",
                    "text": [
                        "100% 4542/4542 [00:00<00:00, 3050525.02it/s]"
                    ]
                },
                {
                    "name": "stdout",
                    "output_type": "stream",
                    "text": [
                        "Extracting dataset/MNIST/raw/t10k-labels-idx1-ubyte.gz to dataset/MNIST/raw\n",
                        "\n"
                    ]
                },
                {
                    "name": "stderr",
                    "output_type": "stream",
                    "text": [
                        "\n"
                    ]
                }
            ],
            "source": [
                "## Create dataloader, in PyTorch, we feed the trainer data with use of dataloader\n",
                "## We create dataloader with dataset from torchvision, \n",
                "## and we dont have to download it seperately, all automatically done\n",
                "\n",
                "# Define batch size, batch size is how much data you feed for training in one iteration\n",
                "batch_size_train = 64 # We use a small batch size here for training\n",
                "batch_size_test = 1024 #\n",
                "\n",
                "# define how image transformed\n",
                "image_transform = torchvision.transforms.Compose([\n",
                "                               torchvision.transforms.ToTensor(),\n",
                "                               torchvision.transforms.Normalize(\n",
                "                                 (0.1307,), (0.3081,))\n",
                "                             ])\n",
                "#image datasets\n",
                "train_dataset = torchvision.datasets.MNIST('dataset/', \n",
                "                                           train=True, \n",
                "                                           download=True,\n",
                "                                           transform=image_transform)\n",
                "test_dataset = torchvision.datasets.MNIST('dataset/', \n",
                "                                          train=False, \n",
                "                                          download=True,\n",
                "                                          transform=image_transform)\n",
                "#data loaders\n",
                "train_loader = torch.utils.data.DataLoader(train_dataset,\n",
                "                                           batch_size=batch_size_train, \n",
                "                                           shuffle=True)\n",
                "test_loader = torch.utils.data.DataLoader(test_dataset,\n",
                "                                          batch_size=batch_size_test, \n",
                "                                          shuffle=True)"
            ]
        },
        {
            "cell_type": "code",
            "execution_count": 4,
            "metadata": {},
            "outputs": [
                {
                    "name": "stdout",
                    "output_type": "stream",
                    "text": [
                        "Label: tensor(8)\n"
                    ]
                },
                {
                    "data": {
                        "image/png": "[encoded data removed]",
                        "text/plain": [
                            "<Figure size 640x480 with 1 Axes>"
                        ]
                    },
                    "metadata": {},
                    "output_type": "display_data"
                }
            ],
            "source": [
                "# import library\n",
                "import matplotlib.pyplot as plt\n",
                "# We can check the dataloader\n",
                "_, (example_datas, labels) = next(enumerate(test_loader))\n",
                "sample = example_datas[0][0]\n",
                "# show the data\n",
                "plt.imshow(sample, cmap='gray', interpolation='none')\n",
                "print(\"Label: \"+ str(labels[0]))"
            ]
        },
        {
            "cell_type": "code",
            "execution_count": 5,
            "metadata": {},
            "outputs": [],
            "source": [
                "## Now we can start to build our CNN model\n",
                "## We first import the pytorch nn module and optimizer\n",
                "import torch.nn as nn\n",
                "import torch.nn.functional as F\n",
                "import torch.optim as optim\n",
                "## Then define the model class\n",
                "class CNN(nn.Module):\n",
                "    def __init__(self):\n",
                "        super(CNN, self).__init__()\n",
                "        #input channel 1, output channel 10\n",
                "        self.conv1 = nn.Conv2d(1, 10, kernel_size=5, stride=1)\n",
                "        #input channel 10, output channel 20\n",
                "        self.conv2 = nn.Conv2d(10, 20, kernel_size=5, stride=1)\n",
                "        #dropout layer\n",
                "        self.conv2_drop = nn.Dropout2d()\n",
                "        #fully connected layer\n",
                "        self.fc1 = nn.Linear(320, 50)\n",
                "        self.fc2 = nn.Linear(50, 10)\n",
                "    def forward(self, x):\n",
                "        x = self.conv1(x)\n",
                "        x = F.max_pool2d(x, 2)\n",
                "        x = F.relu(x)\n",
                "        x = self.conv2(x)\n",
                "        x = self.conv2_drop(x)\n",
                "        x = F.max_pool2d(x, 2)\n",
                "        x = F.relu(x)\n",
                "        x = x.view(-1, 320)\n",
                "        x = self.fc1(x)\n",
                "        x = F.relu(x)\n",
                "        x = F.dropout(x)\n",
                "        x = self.fc2(x)\n",
                "        return F.log_softmax(x, -1)"
            ]
        },
        {
            "cell_type": "code",
            "execution_count": 6,
            "metadata": {},
            "outputs": [],
            "source": [
                "## create model and optimizer\n",
                "learning_rate = 0.01\n",
                "momentum = 0.5\n",
                "device = \"cpu\"\n",
                "model = CNN().to(device) #using cpu here\n",
                "optimizer = optim.SGD(model.parameters(), lr=learning_rate,\n",
                "                      momentum=momentum)"
            ]
        },
        {
            "cell_type": "code",
            "execution_count": 7,
            "metadata": {},
            "outputs": [],
            "source": [
                "from tqdm import tqdm_notebook as tqdm\n",
                "##define train function\n",
                "def train(model, device, train_loader, optimizer, epoch, log_interval=10000):\n",
                "    model.train()\n",
                "    for batch_idx, (data, target) in enumerate(train_loader):\n",
                "        data, target = data.to(device), target.to(device)\n",
                "        optimizer.zero_grad()\n",
                "        output = model(data)\n",
                "        loss = F.nll_loss(output, target)\n",
                "        loss.backward()\n",
                "        optimizer.step()\n",
                "        if batch_idx % 100 == 0:\n",
                "            print('Train Epoch: {} [{}/{} ({:.0f}%)]\\tLoss: {:.6f}'.format(\n",
                "                epoch, batch_idx * len(data), len(train_loader.dataset),\n",
                "                100. * batch_idx / len(train_loader), loss.item()))\n",
                "        \n",
                "##define test function\n",
                "def test(model, device, test_loader):\n",
                "    model.eval()\n",
                "    test_loss = 0\n",
                "    correct = 0\n",
                "    with torch.no_grad():\n",
                "        for data, target in test_loader:\n",
                "            data, target = data.to(device), target.to(device)\n",
                "            output = model(data)\n",
                "            test_loss += F.nll_loss(output, target, reduction='sum').item() # sum up batch loss\n",
                "            pred = output.argmax(dim=1, keepdim=True) # get the index of the max log-probability\n",
                "            correct += pred.eq(target.view_as(pred)).sum().item()\n",
                "    test_loss /= len(test_loader.dataset)\n",
                "\n",
                "    print('\\nTest set: Average loss: {:.4f}, Accuracy: {}/{} ({:.0f}%)\\n'.format(\n",
                "        test_loss, correct, len(test_loader.dataset),\n",
                "        100. * correct / len(test_loader.dataset)))"
            ]
        },
        {
            "cell_type": "code",
            "execution_count": 8,
            "metadata": {},
            "outputs": [
                {
                    "name": "stdout",
                    "output_type": "stream",
                    "text": [
                        "Start training ...\n",
                        "Train Epoch: 1 [0/60000 (0%)]\tLoss: 2.337725\n",
                        "Train Epoch: 1 [6400/60000 (11%)]\tLoss: 1.955033\n",
                        "Train Epoch: 1 [12800/60000 (21%)]\tLoss: 1.318386\n",
                        "Train Epoch: 1 [19200/60000 (32%)]\tLoss: 0.857806\n",
                        "Train Epoch: 1 [25600/60000 (43%)]\tLoss: 1.036255\n",
                        "Train Epoch: 1 [32000/60000 (53%)]\tLoss: 0.500023\n",
                        "Train Epoch: 1 [38400/60000 (64%)]\tLoss: 0.529630\n",
                        "Train Epoch: 1 [44800/60000 (75%)]\tLoss: 0.590054\n",
                        "Train Epoch: 1 [51200/60000 (85%)]\tLoss: 0.547377\n",
                        "Train Epoch: 1 [57600/60000 (96%)]\tLoss: 0.553042\n",
                        "\n",
                        "Test set: Average loss: 0.3588, Accuracy: 8914/10000 (89%)\n",
                        "\n",
                        "Train Epoch: 2 [0/60000 (0%)]\tLoss: 0.352103\n",
                        "Train Epoch: 2 [6400/60000 (11%)]\tLoss: 0.422336\n",
                        "Train Epoch: 2 [12800/60000 (21%)]\tLoss: 0.392431\n",
                        "Train Epoch: 2 [19200/60000 (32%)]\tLoss: 0.381446\n",
                        "Train Epoch: 2 [25600/60000 (43%)]\tLoss: 0.361795\n",
                        "Train Epoch: 2 [32000/60000 (53%)]\tLoss: 0.300085\n",
                        "Train Epoch: 2 [38400/60000 (64%)]\tLoss: 0.275173\n",
                        "Train Epoch: 2 [44800/60000 (75%)]\tLoss: 0.186374\n",
                        "Train Epoch: 2 [51200/60000 (85%)]\tLoss: 0.345736\n",
                        "Train Epoch: 2 [57600/60000 (96%)]\tLoss: 0.312083\n",
                        "\n",
                        "Test set: Average loss: 0.2266, Accuracy: 9343/10000 (93%)\n",
                        "\n",
                        "Train Epoch: 3 [0/60000 (0%)]\tLoss: 0.584520\n",
                        "Train Epoch: 3 [6400/60000 (11%)]\tLoss: 0.448360\n",
                        "Train Epoch: 3 [12800/60000 (21%)]\tLoss: 0.434556\n",
                        "Train Epoch: 3 [19200/60000 (32%)]\tLoss: 0.288971\n",
                        "Train Epoch: 3 [25600/60000 (43%)]\tLoss: 0.796921\n",
                        "Train Epoch: 3 [32000/60000 (53%)]\tLoss: 0.475433\n",
                        "Train Epoch: 3 [38400/60000 (64%)]\tLoss: 0.278899\n",
                        "Train Epoch: 3 [44800/60000 (75%)]\tLoss: 0.335121\n",
                        "Train Epoch: 3 [51200/60000 (85%)]\tLoss: 0.259037\n",
                        "Train Epoch: 3 [57600/60000 (96%)]\tLoss: 0.215348\n",
                        "\n",
                        "Test set: Average loss: 0.1843, Accuracy: 9465/10000 (95%)\n",
                        "\n",
                        "Done\n"
                    ]
                }
            ],
            "source": [
                "print(\"Start training ...\")\n",
                "num_epoch = 3\n",
                "for epoch in range(1, num_epoch + 1):\n",
                "        train(model, device, train_loader, optimizer, epoch)\n",
                "        test(model, device, test_loader)\n",
                "        \n",
                "print(\"Done\")"
            ]
        },
        {
            "cell_type": "code",
            "execution_count": 9,
            "metadata": {},
            "outputs": [],
            "source": [
                "# from torchsummary import summary\n",
                "# summary(model, (1, 28, 28))"
            ]
        },
        {
            "cell_type": "code",
            "execution_count": null,
            "metadata": {},
            "outputs": [],
            "source": []
        },
        {
            "cell_type": "code",
            "execution_count": null,
            "metadata": {},
            "outputs": [],
            "source": []
        }
    ],
    "metadata": {
        "kernelspec": {
            "display_name": "Python 3 (ipykernel)",
            "language": "python",
            "name": "python3"
        },
        "language_info": {
            "codemirror_mode": {
                "name": "ipython",
                "version": 3
            },
            "file_extension": ".py",
            "mimetype": "text/x-python",
            "name": "python",
            "nbconvert_exporter": "python",
            "pygments_lexer": "ipython3",
            "version": "3.10.12"
        }
    },
    "nbformat": 4,
    "nbformat_minor": 4
}